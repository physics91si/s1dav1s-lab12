{
 "cells": [
  {
   "cell_type": "markdown",
   "metadata": {},
   "source": [
    "# Regex"
   ]
  },
  {
   "cell_type": "code",
   "execution_count": 1,
   "metadata": {
    "collapsed": true
   },
   "outputs": [],
   "source": [
    "import re"
   ]
  },
  {
   "cell_type": "code",
   "execution_count": 4,
   "metadata": {
    "collapsed": true
   },
   "outputs": [],
   "source": [
    "# /w = any alphanumeric character\n",
    "#Example:\n",
    "#this regex matches a calendar year (1990, 2001, etc.)\n",
    "[12]?[0-9]{3}"
   ]
  },
  {
   "cell_type": "markdown",
   "metadata": {},
   "source": [
    "1. This regex matches an email address (i.e. someone@somewhere.com)\n",
    "[\\w@\\w.]\n",
    "2. This regex matches a URL (http://www.website.com/page or similar)\n",
    "[http://www.\\w.][a-z]/\n",
    "3. This regex matches a name listed as Lastname, Firstname with the first letter of each capitalized\n",
    "4. This regex matches a phone number. (Should have area code and be correct length)\n",
    "5. This regex matches a data in MM/DD/YY format (be careful about what values are permitted!)"
   ]
  },
  {
   "cell_type": "markdown",
   "metadata": {},
   "source": [
    "For people.txt"
   ]
  },
  {
   "cell_type": "code",
   "execution_count": 1,
   "metadata": {},
   "outputs": [
    {
     "ename": "SyntaxError",
     "evalue": "invalid syntax (<ipython-input-1-a651d2d1766f>, line 1)",
     "output_type": "error",
     "traceback": [
      "\u001b[0;36m  File \u001b[0;32m\"<ipython-input-1-a651d2d1766f>\"\u001b[0;36m, line \u001b[0;32m1\u001b[0m\n\u001b[0;31m    ([A-Z][a-z]*,[ ][A-Z][a-z]*) ([(]\\w+@\\w+.\\w+[)]) (\\d{3}-\\d{4})\u001b[0m\n\u001b[0m                ^\u001b[0m\n\u001b[0;31mSyntaxError\u001b[0m\u001b[0;31m:\u001b[0m invalid syntax\n"
     ]
    }
   ],
   "source": [
    "([A-Z][a-z]*,[ ][A-Z][a-z]*) ([(]\\w+@\\w+.\\w+[)]) (\\d{3}-\\d{4})"
   ]
  },
  {
   "cell_type": "code",
   "execution_count": 2,
   "metadata": {},
   "outputs": [
    {
     "ename": "SyntaxError",
     "evalue": "invalid syntax (<ipython-input-2-0fec8c4d3549>, line 1)",
     "output_type": "error",
     "traceback": [
      "\u001b[0;36m  File \u001b[0;32m\"<ipython-input-2-0fec8c4d3549>\"\u001b[0;36m, line \u001b[0;32m1\u001b[0m\n\u001b[0;31m    ./contacts.py\tpeople.txt.\u001b[0m\n\u001b[0m    ^\u001b[0m\n\u001b[0;31mSyntaxError\u001b[0m\u001b[0;31m:\u001b[0m invalid syntax\n"
     ]
    }
   ],
   "source": [
    "./contacts.py\tpeople.txt."
   ]
  },
  {
   "cell_type": "code",
   "execution_count": null,
   "metadata": {
    "collapsed": true
   },
   "outputs": [],
   "source": []
  }
 ],
 "metadata": {
  "kernelspec": {
   "display_name": "Python 3",
   "language": "python",
   "name": "python3"
  },
  "language_info": {
   "codemirror_mode": {
    "name": "ipython",
    "version": 3
   },
   "file_extension": ".py",
   "mimetype": "text/x-python",
   "name": "python",
   "nbconvert_exporter": "python",
   "pygments_lexer": "ipython3",
   "version": "3.6.1"
  }
 },
 "nbformat": 4,
 "nbformat_minor": 2
}
